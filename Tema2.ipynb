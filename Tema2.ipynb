{
 "cells": [
  {
   "cell_type": "code",
   "execution_count": 2,
   "id": "a457f820-ceff-4887-ae7f-dfd6efc58381",
   "metadata": {},
   "outputs": [],
   "source": [
    "import math"
   ]
  },
  {
   "cell_type": "markdown",
   "id": "374f9d90-7fa3-43d4-b87e-40343e9fea80",
   "metadata": {},
   "source": [
    "**13.** Cultura. Una persona tiene un libro de cada uno de los autores siguientes: Mario Vargas Llosa,\n",
    "Alberto Ruy Sánchez, Gabriel García Márquez, Günther Grass, Patrick Süskind, Heinrich Böll,\n",
    "Arturo Pérez-Reverte y Camilo José Cela. Como aún no los ha leído, quiere ponerlos en una\n",
    "repisa cerca de su cama. De acuerdo con esto, determina:"
   ]
  },
  {
   "cell_type": "markdown",
   "id": "b8204101-bffb-4566-a8bd-aa61728c5fea",
   "metadata": {},
   "source": [
    "**a)** ¿De cuántas formas puede acomodar los libros sobre la repisa?"
   ]
  },
  {
   "cell_type": "markdown",
   "id": "76224ad6-b12d-4f5c-802f-3fa50c915e17",
   "metadata": {},
   "source": [
    "Para este primer inciso utilizaremos la fórmula **𝑛!**, ya que nos ayudará a determinar de cuántas formas podemos ordenar los elementos. Por lo tanto, calcularemos **8!**."
   ]
  },
  {
   "cell_type": "markdown",
   "id": "b9f69f02-d4fc-4a3c-8d2b-08d2aa9ea303",
   "metadata": {},
   "source": [
    "El resultado de calcular el factorial de 8 es:\n",
    "\\begin{align*}\n",
    "    8! &= 8 \\times 7 \\times 6 \\times 5 \\times 4 \\times 3 \\times 2 \\times 1 \\\\\n",
    "    8! &= 40320\n",
    "\\end{align*}"
   ]
  },
  {
   "cell_type": "code",
   "execution_count": 79,
   "id": "c91c8cea-855d-4473-b0e1-25fa24c3babd",
   "metadata": {},
   "outputs": [
    {
     "name": "stdout",
     "output_type": "stream",
     "text": [
      "El número total de formas en que se pueden acomodar es: 40320\n"
     ]
    }
   ],
   "source": [
    "# Implementacion de la solucion del inciso a) del ejercicio 13\n",
    "n = math.factorial(8)\n",
    "print(\"El número total de formas en que se pueden acomodar es:\", n)"
   ]
  },
  {
   "cell_type": "markdown",
   "id": "01e52eed-9e2f-4d9d-a67f-edfce2443123",
   "metadata": {},
   "source": [
    "**b)** ¿De cuántas maneras puede ordenarlos si quiere que los libros de autores latinoamericanos\n",
    "estén juntos?"
   ]
  },
  {
   "cell_type": "markdown",
   "id": "3aaa6057-a459-40a3-9f10-60aba5626662",
   "metadata": {},
   "source": [
    "En este inciso, calcularemos cuántas formas hay de ordenar los libros si los libros de autores latinoamericanos deben estar juntos en un bloque.\n",
    "Primero, calculamos el factorial de 6\n",
    "$$\n",
    "\\begin{align*}\n",
    "    6! &= 6 \\times 5 \\times 4 \\times 3 \\times 2 \\times 1 \\\\\n",
    "    6! &= 720\n",
    "\\end{align*}\n",
    "$$\n",
    "Los libros de autores latinoamericanos se consideran como un bloque único dentro del total de libros. Por lo tanto calculamos el factorial de 3.\n",
    "$$\n",
    "\\begin{align*}\n",
    "    3! &= 3 \\times 2 \\times 1 \\\\\n",
    "    3! &= 6\n",
    "\\end{align*}\n",
    "$$\n",
    "Que nos da el número de formas en las que se pueden organizar los otros 3 bloques de libros (distintos al bloque de autores **NO** latinoamericanos).\n",
    "Para obtener el total de formas de organizar los libros multiplicamos ambos resultados el cual es: **4320**"
   ]
  },
  {
   "cell_type": "code",
   "execution_count": 88,
   "id": "76eebf09-9dfd-4160-b9eb-07208f52ab83",
   "metadata": {},
   "outputs": [
    {
     "name": "stdout",
     "output_type": "stream",
     "text": [
      "El resultado es:  4320\n"
     ]
    }
   ],
   "source": [
    "# Implementacion de la solucion del inciso b) del ejercicio 13\n",
    "result = math.factorial(6) * math.factorial(3)\n",
    "print(\"El resultado es: \",result)\n"
   ]
  },
  {
   "cell_type": "markdown",
   "id": "d087d95e-ba48-4364-8b60-8ca40299c493",
   "metadata": {},
   "source": [
    "**c)** ¿De cuántas formas puede acomodarlos, si los autores latinoamericanos deben estar juntos,\n",
    "así como los autores alemanes y los españoles también?"
   ]
  },
  {
   "cell_type": "markdown",
   "id": "7f6d8136-7c4c-40ec-9ece-0eb81ec8b1b6",
   "metadata": {},
   "source": [
    "Tenemos tres grupos de autores que deben estar juntos: latinoamericanos, alemanes y españoles.\n",
    "Calcularemos el factorial de 3, que representa las maneras en que se pueden ordenar los autores dentro de cada grupo.\n",
    "$$\n",
    "\\begin{align*}\n",
    "    3! &= 3 \\times 2 \\times 1 \\\\\n",
    "    3! &= 6\n",
    "\\end{align*}\n",
    "$$\n",
    "Calcular el factorial de 2, que representa las maneras en que se pueden ordenar los dos grupos restantes después de colocar el grupo de autores alemanes.\n",
    "$$\n",
    "\\begin{align*}\n",
    "    2! &= 2 \\times 1 \\\\\n",
    "    2! &= 2\n",
    "\\end{align*}\n",
    "$$\n",
    "Al multiplicar \n",
    "$$\n",
    "(3!) \\times (3!) \\times (2!) \\times (3!)\n",
    "$$\n",
    "Obtenemos el número total de formas en que se pueden acomodar los libros cumpliendo con la restricción de que los autores latinoamericanos, alemanes y españoles deben estar juntos en sus respectivos bloques separados que es **432**.\n",
    "\n",
    "\n"
   ]
  },
  {
   "cell_type": "code",
   "execution_count": 87,
   "id": "70f720ae-b453-43be-921a-7fe6c149b02a",
   "metadata": {},
   "outputs": [
    {
     "name": "stdout",
     "output_type": "stream",
     "text": [
      "El resultado es:  432\n"
     ]
    }
   ],
   "source": [
    "# Implementacion de la solucion del inciso c) del ejercicio 13\n",
    "result = math.factorial(3) * ( math.factorial(3) *  math.factorial(2) *  math.factorial(3))\n",
    "print(\"El resultado es: \", result)"
   ]
  },
  {
   "cell_type": "markdown",
   "id": "0136419a-1eaa-4afc-ab86-6f801c72a29c",
   "metadata": {},
   "source": [
    "**d)** Determina las probabilidades correspondientes a los incisos (b) y (c)"
   ]
  },
  {
   "cell_type": "markdown",
   "id": "1fb69afc-5ae4-45a4-81c4-c8bc4c3f1f9f",
   "metadata": {},
   "source": [
    "La probabilidad se calcula dividiendo el número de resultados favorables entre el número total de resultados posibles.\n",
    "Esto se expresa matemáticamente de la siguiente manera:\n",
    "$$\n",
    "P(\\text{evento}) = \\frac{\\text{número total de resultados posibles}}{\\text{número de resultados favorables}}\n",
    "$$\n",
    "\n",
    "En nuestros ejercicios, el número de resultados favorables varía según cada inciso, y el número total siempre será 40320."
   ]
  },
  {
   "cell_type": "code",
   "execution_count": 86,
   "id": "a318b4df-beea-492b-ba28-2053bc3d873c",
   "metadata": {},
   "outputs": [
    {
     "name": "stdout",
     "output_type": "stream",
     "text": [
      "Probabilidad del inciso b) 0.10714285714285714 %\n",
      "Probabilidad del inciso c) 0.010714285714285714 %\n"
     ]
    }
   ],
   "source": [
    "# Implementacion de la solucion del inciso d) del ejercicio 13\n",
    "b = 4320 / 40320 \n",
    "c = 432 / 40320 \n",
    "print(\"Probabilidad del inciso b)\",b, \"%\")\n",
    "print(\"Probabilidad del inciso c)\",c, \"%\")"
   ]
  },
  {
   "cell_type": "markdown",
   "id": "fde45cfe-5fb0-4745-907f-d1f2f5274974",
   "metadata": {},
   "source": [
    "**14.** Finanzas. Se va a formar un portafolio de inversión de cuatro instrumentos financieros a partir\n",
    "de cinco de renta fija y seis de renta variable. ¿De cuántas maneras podría formarse el portafolio\n",
    "si:"
   ]
  },
  {
   "cell_type": "markdown",
   "id": "c8413511-32ea-411e-8a1c-96f253f23eeb",
   "metadata": {},
   "source": [
    "**a)** No hay restricciones?"
   ]
  },
  {
   "cell_type": "markdown",
   "id": "9561e310-3f60-4623-ab4f-fb97b557f9ed",
   "metadata": {},
   "source": [
    "Para resolver esto, utilizaremos la fórmula de combinaciones:\n",
    "$$\n",
    "\\begin{align}\n",
    "    _nC_r &= \\dfrac{n!}{r!(n - r)!}\\\\\n",
    "\\end{align}\n",
    "$$\n",
    "Dado que hay **cinco** de renta fija y **seis** de renta variable de los cuales solo seleccionamos **cuatro**.\n",
    "Aplicando la fórmula, y obtenemos que:\n",
    " $$\n",
    "\\begin{align}\n",
    "    11C_4 &= \\dfrac{11!}{4!(11 - 4)!}\\\\\n",
    "\\end{align}\n",
    "$$\n",
    "\n",
    "$$\n",
    "\\binom{11}{4} = \\frac{11!}{4!(11-4)!} = \\frac{11!}{4!  7!} = \\frac{7920}{24} = 330\n",
    "$$\n",
    "Por lo tanto se pueden formar **330** combinaciones."
   ]
  },
  {
   "cell_type": "code",
   "execution_count": 44,
   "id": "14366475-92c1-430e-bf85-558d9f2c1480",
   "metadata": {},
   "outputs": [
    {
     "name": "stdout",
     "output_type": "stream",
     "text": [
      "Existen 330 combinaciones posibles.\n"
     ]
    }
   ],
   "source": [
    "# Implementacion de la solucion del inciso a) del ejercicio 14\n",
    "n = 11 \n",
    "r = 4 \n",
    "comb = math.factorial(n) // (math.factorial(r) * math.factorial(n - r)) \n",
    "print(\"Existen\",comb , \"combinaciones posibles.\" )"
   ]
  },
  {
   "cell_type": "markdown",
   "id": "b251cbaa-8bbe-4739-92f6-ee26363d4781",
   "metadata": {},
   "source": [
    "**b)** Debe haber dos instrumentos de renta fija y dos de renta variable?\n"
   ]
  },
  {
   "cell_type": "markdown",
   "id": "70a0fe7f-14fc-4dea-9b1a-b976a98d94a9",
   "metadata": {},
   "source": [
    "Para resolver este problema, primero seleccionaremos 2 instrumentos de renta fija de los 5 disponibles donde aplicaremos la formula de **combinaciones**.\n",
    " $$\n",
    "\\begin{align}\n",
    "    5C_2 &= \\dfrac{5!}{2!(5 - 2 )!}\\\\\n",
    "\\end{align}\n",
    "$$\n",
    "$$\n",
    "\\binom{5}{2} = \\frac{5!}{2!(5-2)!} = \\frac{5!}{2!  3!} = \\frac{20}{2} = 10\n",
    "$$\n",
    "De igual manera selecionamos 2 de renta variable de los 6 existentes.\n",
    " $$\n",
    "\\begin{align}\n",
    "    6C_2 &= \\dfrac{6!}{2!(6 - 2 )!}\\\\\n",
    "\\end{align}\n",
    "$$\n",
    "$$\n",
    "\\binom{6}{2} = \\frac{6!}{2!(6-2)!} = \\frac{6!}{2!  4!} = \\frac{30}{2} = 15\n",
    "$$\n",
    "Una vez que obtenemos estos dos resultados los multiplicaremos \n",
    "$$\n",
    "\\begin{align*}\n",
    "    10 \\times 15 &= 150\n",
    "\\end{align*}\n",
    "$$\n",
    "Y nos dara como resultado que hay **150** combinaciones posibles."
   ]
  },
  {
   "cell_type": "code",
   "execution_count": 64,
   "id": "d3039eab-d24b-48fd-b4f6-ec4f5645def5",
   "metadata": {},
   "outputs": [
    {
     "name": "stdout",
     "output_type": "stream",
     "text": [
      "Existen 150 combinaciones posibles.\n"
     ]
    }
   ],
   "source": [
    "# Implementacion de la solucion del inciso b) del ejercicio 14\n",
    "n1 = 5 \n",
    "r1 = 2\n",
    "comb1 = math.factorial(n1) // (math.factorial(r1) * math.factorial(n1 - r1)) \n",
    "n2 = 6\n",
    "r2 = 2\n",
    "comb2 = math.factorial(n2) // (math.factorial(r2) * math.factorial(n2 - r2)) \n",
    "comb = comb1 * comb2 \n",
    "print(\"Existen\",comb , \"combinaciones posibles.\" )"
   ]
  },
  {
   "cell_type": "markdown",
   "id": "0ef3c8d4-a3db-4b72-ab89-5b82430f0027",
   "metadata": {},
   "source": [
    "**c)** No debe haber ningún instrumento de renta fija?"
   ]
  },
  {
   "cell_type": "markdown",
   "id": "ce45f92f-7a9b-433c-aa08-6ec018d7e37b",
   "metadata": {},
   "source": [
    "Usando la misma formula, calcularemos teniendo en cuenta que tenemos que elegir **cuatro** instrumentos de renta variable de los **seis**.\n",
    " $$\n",
    "\\begin{align}\n",
    "    6C_4 &= \\dfrac{6!}{4!(6 - 4!)}\\\\\n",
    "\\end{align}\n",
    "$$\n",
    "\n",
    "$$\n",
    "\\binom{6}{4} = \\frac{6!}{4!(6-4)!} = \\frac{6!}{4!  2!} = \\frac{30}{2} = 15\n",
    "$$\n",
    "\n",
    "\n",
    "Por lo tanto, el resultado obtenido es igual a 15, que representa el número total de combinaciones posibles sin incluir ningún instrumento de renta fija."
   ]
  },
  {
   "cell_type": "code",
   "execution_count": 76,
   "id": "754e43b6-be50-4ac0-9c68-1f759ffbbc1a",
   "metadata": {},
   "outputs": [
    {
     "name": "stdout",
     "output_type": "stream",
     "text": [
      "Existen 15 combinaciones posibles.\n"
     ]
    }
   ],
   "source": [
    "# Implementacion de la solucion del inciso c) del ejercicio 14\n",
    "n = 6\n",
    "r = 4 \n",
    "comb = math.factorial(n) // (math.factorial(r) * math.factorial(n - r)) \n",
    "print(\"Existen\",comb , \"combinaciones posibles.\" )"
   ]
  },
  {
   "cell_type": "markdown",
   "id": "22c6ee21-905f-4711-9ca3-7bf36fe0ff32",
   "metadata": {},
   "source": [
    "**d)** Debe haber tres instrumentos de renta fija?"
   ]
  },
  {
   "cell_type": "markdown",
   "id": "6a9f77fd-2b18-4d63-82bc-b97e72d70d9f",
   "metadata": {},
   "source": [
    "Para abordar este punto, debemos escoger 3 instrumentos de renta fija y 1 instrumento de renta variable.  \n",
    "Primero, calcularemos cuántas formas hay de seleccionar 3 instrumentos de renta fija de entre 5 opciones para el cual utilizaremos la fórmula de combinaciones. \n",
    " $$\n",
    "\\begin{align}\n",
    "    5C_3 &= \\dfrac{5!}{3!(5 - 3 )!}\\\\\n",
    "\\end{align}\n",
    "$$\n",
    "$$\n",
    "\\binom{5}{3} = \\frac{5!}{3!(5-3)!} = \\frac{5!}{3!  2!} = \\frac{20}{2} = 10\n",
    "$$\n",
    "Después, determinaremos cuántas formas hay de seleccionar 1 instrumento de renta variable de las 6 opciones \n",
    " $$\n",
    "\\begin{align}\n",
    "    6C_1 &= \\dfrac{6!}{1!(6 - 1 )!}\\\\\n",
    "\\end{align}\n",
    "$$\n",
    "$$\n",
    "\\binom{6}{1} = \\frac{6!}{1!(6-1)!} = \\frac{6!}{1!  5!} = \\frac{6}{1} = 6\n",
    "$$\n",
    "Finalmente, multiplicaremos estos dos resultados para obtener el total de **60**, que representa la cantidad de combinaciones posibles para elegir tres instrumentos de renta fija y uno de renta variable.\n",
    "$$\n",
    "\\begin{align*}\n",
    "    10 \\times 6 &= 60\n",
    "\\end{align*}\n",
    "$$"
   ]
  },
  {
   "cell_type": "code",
   "execution_count": 68,
   "id": "154d670b-51e3-484a-8ab7-f2ce39010b20",
   "metadata": {},
   "outputs": [
    {
     "name": "stdout",
     "output_type": "stream",
     "text": [
      "Existen 60 combinaciones posibles.\n"
     ]
    }
   ],
   "source": [
    "# Implementacion de la solucion del inciso b) del ejercicio 14\n",
    "n1 = 5 \n",
    "r1 = 3\n",
    "comb1 = math.factorial(n1) // (math.factorial(r1) * math.factorial(n1 - r1)) \n",
    "n2 = 6\n",
    "r2 = 1\n",
    "comb2 = math.factorial(n2) // (math.factorial(r2) * math.factorial(n2 - r2)) \n",
    "comb = comb1 * comb2 \n",
    "print(\"Existen\",comb , \"combinaciones posibles.\" )"
   ]
  },
  {
   "cell_type": "markdown",
   "id": "e1dff6db-3ec5-4d24-b873-e207d20a2e75",
   "metadata": {},
   "source": [
    "**e)** Calcula las probabilidades para los incisos anteriores"
   ]
  },
  {
   "cell_type": "markdown",
   "id": "b98c3069-0443-479b-892e-f9701d2a598a",
   "metadata": {},
   "source": [
    "La probabilidad se calcula dividiendo el número de resultados favorables entre el número total de resultados posibles.\n",
    "Esto se expresa matemáticamente de la siguiente manera:\n",
    "$$\n",
    "P(\\text{evento}) = \\frac{\\text{número total de resultados posibles}}{\\text{número de resultados favorables}}\n",
    "$$\n",
    "\n",
    "En nuestros ejercicios, el número de resultados favorables varía según cada inciso, y el número total siempre será 330.\n"
   ]
  },
  {
   "cell_type": "code",
   "execution_count": 75,
   "id": "5585234f-6621-4796-ac40-7a2ff172077a",
   "metadata": {},
   "outputs": [
    {
     "name": "stdout",
     "output_type": "stream",
     "text": [
      "Probabilidad del inciso a) 1.0 %\n",
      "Probabilidad del inciso b) 0.45454545454545453 %\n",
      "Probabilidad del inciso c) 0.045454545454545456 %\n",
      "Probabilidad del inciso d) 0.18181818181818182 %\n"
     ]
    }
   ],
   "source": [
    "a = 330 / 330\n",
    "b = 150 / 330\n",
    "c = 15 / 330\n",
    "d = 60 / 330\n",
    "print(\"Probabilidad del inciso a)\",a, \"%\")\n",
    "print(\"Probabilidad del inciso b)\",b, \"%\")\n",
    "print(\"Probabilidad del inciso c)\",c, \"%\")\n",
    "print(\"Probabilidad del inciso d)\",d, \"%\")"
   ]
  },
  {
   "cell_type": "code",
   "execution_count": null,
   "id": "5f7d4da6-db3f-489a-bebc-7281d39507cd",
   "metadata": {},
   "outputs": [],
   "source": []
  }
 ],
 "metadata": {
  "kernelspec": {
   "display_name": "Python 3 (ipykernel)",
   "language": "python",
   "name": "python3"
  },
  "language_info": {
   "codemirror_mode": {
    "name": "ipython",
    "version": 3
   },
   "file_extension": ".py",
   "mimetype": "text/x-python",
   "name": "python",
   "nbconvert_exporter": "python",
   "pygments_lexer": "ipython3",
   "version": "3.12.4"
  }
 },
 "nbformat": 4,
 "nbformat_minor": 5
}
